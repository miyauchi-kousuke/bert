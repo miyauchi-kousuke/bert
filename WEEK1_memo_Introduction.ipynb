{
 "cells": [
  {
   "cell_type": "markdown",
   "metadata": {
    "collapsed": true
   },
   "source": [
    "# WEEK1 Introduction\n",
    "---"
   ]
  },
  {
   "cell_type": "markdown",
   "metadata": {},
   "source": [
    "## Machine Learning\n",
    "\n",
    "### Suprevised Learning\n",
    "\n",
    "- Regression Problem: predict results within a continuous output\n",
    "- Classification Problem: Discrete valued output\n",
    "\n",
    "\n",
    "### Unsupervised Learning\n",
    "- ex. clustering\n",
    "- ex: Cocktail party algorithm: multiple microphones, recorded audio split into multiple speaches."
   ]
  },
  {
   "cell_type": "markdown",
   "metadata": {},
   "source": [
    "## Definition of machine learning\n",
    "\n",
    "Definition of machine learning: Tom Mitchell (1998)\n",
    "\n",
    "- Computer learned from Experience $E$\n",
    "- with respect some task $T$\n",
    "- some performance measure $P$\n",
    "- $P$ improves with experience $E$"
   ]
  },
  {
   "cell_type": "code",
   "execution_count": null,
   "metadata": {
    "collapsed": true
   },
   "outputs": [],
   "source": []
  }
 ],
 "metadata": {
  "kernelspec": {
   "display_name": "Python 3",
   "language": "python",
   "name": "python3"
  },
  "language_info": {
   "codemirror_mode": {
    "name": "ipython",
    "version": 3
   },
   "file_extension": ".py",
   "mimetype": "text/x-python",
   "name": "python",
   "nbconvert_exporter": "python",
   "pygments_lexer": "ipython3",
   "version": "3.6.1"
  }
 },
 "nbformat": 4,
 "nbformat_minor": 2
}
