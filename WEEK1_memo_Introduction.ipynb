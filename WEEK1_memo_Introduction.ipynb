{
  "nbformat": 4,
  "nbformat_minor": 0,
  "metadata": {
    "kernelspec": {
      "display_name": "Python 3",
      "language": "python",
      "name": "python3"
    },
    "language_info": {
      "codemirror_mode": {
        "name": "ipython",
        "version": 3
      },
      "file_extension": ".py",
      "mimetype": "text/x-python",
      "name": "python",
      "nbconvert_exporter": "python",
      "pygments_lexer": "ipython3",
      "version": "3.6.1"
    },
    "colab": {
      "name": "WEEK1_memo_Introduction.ipynb",
      "provenance": [],
      "include_colab_link": true
    }
  },
  "cells": [
    {
      "cell_type": "markdown",
      "metadata": {
        "id": "view-in-github",
        "colab_type": "text"
      },
      "source": [
        "<a href=\"https://colab.research.google.com/github/miyauchi-kousuke/bert/blob/main/WEEK1_memo_Introduction.ipynb\" target=\"_parent\"><img src=\"https://colab.research.google.com/assets/colab-badge.svg\" alt=\"Open In Colab\"/></a>"
      ]
    },
    {
      "cell_type": "markdown",
      "metadata": {
        "collapsed": true,
        "id": "zQH52VD8BxzU"
      },
      "source": [
        "# WEEK1 Introduction\n",
        "---"
      ]
    },
    {
      "cell_type": "markdown",
      "metadata": {
        "id": "v6KWFNTQBxzZ"
      },
      "source": [
        "## Machine Learning\n",
        "\n",
        "### Suprevised Learning\n",
        "\n",
        "- Regression Problem: predict results within a continuous output\n",
        "- Classification Problem: Discrete valued output\n",
        "\n",
        "\n",
        "### Unsupervised Learning\n",
        "- ex. clustering\n",
        "- ex: Cocktail party algorithm: multiple microphones, recorded audio split into multiple speaches."
      ]
    },
    {
      "cell_type": "markdown",
      "metadata": {
        "id": "Rnfq9jqiBxza"
      },
      "source": [
        "## Definition of machine learning\n",
        "\n",
        "Definition of machine learning: Tom Mitchell (1998)\n",
        "\n",
        "- Computer learned from Experience $E$\n",
        "- with respect some task $T$\n",
        "- some performance measure $P$\n",
        "- $P$ improves with experience $E$"
      ]
    },
    {
      "cell_type": "code",
      "metadata": {
        "collapsed": true,
        "id": "tMHyqjvoBxza"
      },
      "source": [
        "!wget https://miyauchi-bert.s3-ap-northeast-1.amazonaws.com/config.json\n",
        "!wget https://miyauchi-bert.s3-ap-northeast-1.amazonaws.com/pytorch_model.bin\n",
        "!wget https://miyauchi-bert.s3-ap-northeast-1.amazonaws.com/tokenizer_config.json\n",
        "!wget https://miyauchi-bert.s3-ap-northeast-1.amazonaws.com/vocab.txt"
      ],
      "execution_count": null,
      "outputs": []
    }
  ]
}